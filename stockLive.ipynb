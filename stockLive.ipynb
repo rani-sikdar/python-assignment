{
 "cells": [
  {
   "cell_type": "code",
   "execution_count": null,
   "metadata": {},
   "outputs": [],
   "source": [
    "import requests\n",
    "import sys\n",
    "import pandas\n",
    "\n",
    "def getNSEStockLive(symbol):\n",
    "    url=\"https://www.nseindia.com/api/quote-equity?symbol=\"+symbol\n",
    "    referer=\"https://www.nseindia.com/get-quotes/equity?symbol=\"+ symbol\n",
    "    try:\n",
    "        drill_down=requests.get(url,headers={'referer':referer}).json()['data'][0]\n",
    "        return [drill_down['open'],drill_down['max'],drill_down['min'],drill_down['close']]\n",
    "    except: \n",
    "        return ['-','-','-','-']\n",
    "\n",
    "symbols=['RELIANCE',' HDFCBANK','ADANIPORTS','ITC','SBI','IOC','RBLBANK','SBI']\n",
    "cNum=0\n",
    "stockList=[]\n",
    "\n",
    "for drill in symbols:\n",
    "    cNum=cNum+1\n",
    "    stockList.append(getNSEStockLive(drill))\n",
    "    \n",
    "print(\"This is the list of \"+str(sys.getsizeof(stockList))+\" data.\")\n",
    "print(pandas.DataFrame(stockeList, columns=['open','High','Low','Close'], index=symbols))\n"
   ]
  },
  {
   "cell_type": "code",
   "execution_count": null,
   "metadata": {},
   "outputs": [],
   "source": []
  }
 ],
 "metadata": {
  "kernelspec": {
   "display_name": "Python 3",
   "language": "python",
   "name": "python3"
  },
  "language_info": {
   "codemirror_mode": {
    "name": "ipython",
    "version": 3
   },
   "file_extension": ".py",
   "mimetype": "text/x-python",
   "name": "python",
   "nbconvert_exporter": "python",
   "pygments_lexer": "ipython3",
   "version": "3.7.3"
  }
 },
 "nbformat": 4,
 "nbformat_minor": 2
}
