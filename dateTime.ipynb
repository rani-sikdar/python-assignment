{
 "cells": [
  {
   "cell_type": "code",
   "execution_count": 23,
   "metadata": {},
   "outputs": [
    {
     "name": "stdout",
     "output_type": "stream",
     "text": [
      "enter the year & month in numerical form yyyy mm-\n",
      "2016 11\n",
      "last thrusday of the given month\n",
      "2016-11-24\n"
     ]
    }
   ],
   "source": [
    "import datetime, calendar\n",
    "\n",
    "def getLastThursday(year, month):\n",
    "    # Returns (month, numberOfDaysInMonth)\n",
    "    daysInMonth = calendar.monthrange(year, month)[1]  \n",
    "     \n",
    "    #fetch year month along with days in month\n",
    "    dt = datetime.date(year, month, daysInMonth)\n",
    "    \n",
    "    offset = 4 - dt.isoweekday()\n",
    "    if offset > 0: offset -= 7 \n",
    "\n",
    "    dt += datetime.timedelta(offset)  \n",
    "    return dt\n",
    "\n",
    "print(\"enter the year & month in numerical form \"\"yyyy mm\"\"-\")\n",
    "x, y = map(int, input().split())\n",
    "\n",
    "print(\"last thrusday of the given month\")\n",
    "print(getLastThursday(x,y))"
   ]
  },
  {
   "cell_type": "code",
   "execution_count": null,
   "metadata": {},
   "outputs": [],
   "source": []
  }
 ],
 "metadata": {
  "kernelspec": {
   "display_name": "Python 3",
   "language": "python",
   "name": "python3"
  },
  "language_info": {
   "codemirror_mode": {
    "name": "ipython",
    "version": 3
   },
   "file_extension": ".py",
   "mimetype": "text/x-python",
   "name": "python",
   "nbconvert_exporter": "python",
   "pygments_lexer": "ipython3",
   "version": "3.7.3"
  }
 },
 "nbformat": 4,
 "nbformat_minor": 2
}
